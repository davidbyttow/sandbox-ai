{
 "cells": [
  {
   "cell_type": "code",
   "execution_count": 149,
   "id": "9812dec1",
   "metadata": {},
   "outputs": [],
   "source": [
    "import pandas as pd\n",
    "import re\n",
    "import tiktoken\n",
    "import numpy as np\n",
    "import pickle\n",
    "import openai\n",
    "\n",
    "from tqdm.notebook import tqdm\n",
    "from nltk.tokenize import sent_tokenize\n",
    "from pathlib import Path\n",
    "from PyPDF2 import PdfReader\n",
    "from matplotlib import pyplot as plt\n"
   ]
  },
  {
   "cell_type": "code",
   "execution_count": 194,
   "id": "00c06255",
   "metadata": {},
   "outputs": [
    {
     "data": {
      "text/plain": [
       "612"
      ]
     },
     "execution_count": 194,
     "metadata": {},
     "output_type": "execute_result"
    }
   ],
   "source": [
    "\n",
    "encoding = tiktoken.encoding_for_model('text-davinci-003')\n",
    "\n",
    "def count_tokens(text):\n",
    "    return len(encoding.encode(text))\n",
    "\n",
    "def reduce_long(long_text, long_text_tokens=False, max_len=590):\n",
    "    if not long_text_tokens:\n",
    "        long_text_tokens = count_tokens(long_text)\n",
    "    if long_text_tokens > max_len:\n",
    "        sentences = sent_tokenize(long_text.replace(\"\\n\", \" \"))\n",
    "        ntokens = 0\n",
    "        for i, sentence in enumerate(sentences):\n",
    "            ntokens += 1 + count_tokens(sentence)\n",
    "            if ntokens > max_len:\n",
    "                return \". \".join(sentences[:i]) + \".\"\n",
    "    return long_text\n",
    "\n",
    "def extract_sections(source, text, max_len=1500):\n",
    "    if len(text) == 0:\n",
    "        return []\n",
    "    sections = []\n",
    "    headings = []\n",
    "    heading = \"\"\n",
    "    section = \"\"\n",
    "    for l in text.split('\\n'):\n",
    "        l = l.strip()\n",
    "        name = re.findall('^(#{1,2}\\s(.*))', l)\n",
    "        if len(name) == 1:\n",
    "            heading = name[0][1]\n",
    "            l = l.removeprefix(name[0][0])\n",
    "        section += (l + '\\n').strip()\n",
    "    if len(section) > 0:\n",
    "        headings.append(heading)\n",
    "        sections.append(section)\n",
    "    assert len(headings) == len(sections)\n",
    "\n",
    "    counts = [count_tokens(s) + count_tokens(h) for h, s in zip(headings, sections)]\n",
    "    \n",
    "    results = []\n",
    "    for h, s, c in zip(headings, sections, counts):\n",
    "        if c > max_len:\n",
    "            s = reduce_long(s, max_len)\n",
    "            c = count_tokens(s)\n",
    "        results.append((source, h, s, c))\n",
    "    return results\n",
    "\n",
    "\n",
    "dir = \"../../localdata/sorare-notion/text-only\"\n",
    "ps = list(Path(dir).glob(\"**/*.md\"))\n",
    "\n",
    "pages = []\n",
    "# ps = ps[:1]\n",
    "for p in ps:\n",
    "    content = \"\"\n",
    "    with open(p, \"r\") as fd:\n",
    "        text = fd.read()\n",
    "        file_name = str(p).removeprefix(dir+\"/\")          \n",
    "        pages.extend(extract_sections(str(file_name), text))\n",
    "len(pages)"
   ]
  },
  {
   "cell_type": "code",
   "execution_count": 195,
   "id": "4e646064",
   "metadata": {},
   "outputs": [
    {
     "data": {
      "text/html": [
       "<div>\n",
       "<style scoped>\n",
       "    .dataframe tbody tr th:only-of-type {\n",
       "        vertical-align: middle;\n",
       "    }\n",
       "\n",
       "    .dataframe tbody tr th {\n",
       "        vertical-align: top;\n",
       "    }\n",
       "\n",
       "    .dataframe thead th {\n",
       "        text-align: right;\n",
       "    }\n",
       "</style>\n",
       "<table border=\"1\" class=\"dataframe\">\n",
       "  <thead>\n",
       "    <tr style=\"text-align: right;\">\n",
       "      <th></th>\n",
       "      <th></th>\n",
       "      <th>content</th>\n",
       "      <th>tokens</th>\n",
       "    </tr>\n",
       "    <tr>\n",
       "      <th>source</th>\n",
       "      <th>heading</th>\n",
       "      <th></th>\n",
       "      <th></th>\n",
       "    </tr>\n",
       "  </thead>\n",
       "  <tbody>\n",
       "    <tr>\n",
       "      <th>Rickert OOO bfccdfa1b0cc476dacd560a1323cbf08.md</th>\n",
       "      <th>Rickert OOO</th>\n",
       "      <td>*May be missing things, think this is close to...</td>\n",
       "      <td>1143</td>\n",
       "    </tr>\n",
       "    <tr>\n",
       "      <th>Business Development 87de3306dd7a4e119068567e0ddc8874.md</th>\n",
       "      <th>Other:</th>\n",
       "      <td>&lt;aside&gt;💡 This page gather all our processes an...</td>\n",
       "      <td>803</td>\n",
       "    </tr>\n",
       "    <tr>\n",
       "      <th>MLB f1984142190041aa8c237f85743c902e.md</th>\n",
       "      <th>MLB</th>\n",
       "      <td>### Team MLB[Team Roster](MLB%20f1984142190041...</td>\n",
       "      <td>756</td>\n",
       "    </tr>\n",
       "    <tr>\n",
       "      <th>Crypto ffd4609240e144bbad3354c4e6c1cb23.md</th>\n",
       "      <th>Crypto</th>\n",
       "      <td>[Ethereum merge](Crypto%20ffd4609240e144bbad33...</td>\n",
       "      <td>62</td>\n",
       "    </tr>\n",
       "    <tr>\n",
       "      <th>Sorare blockchain event endpoint d6c7e7c2ce184735ae596c450d1f257e.md</th>\n",
       "      <th>Other</th>\n",
       "      <td>Sorare was initially operating on Ethereum Lay...</td>\n",
       "      <td>566</td>\n",
       "    </tr>\n",
       "  </tbody>\n",
       "</table>\n",
       "</div>"
      ],
      "text/plain": [
       "                                                                                                          content  \\\n",
       "source                                             heading                                                          \n",
       "Rickert OOO bfccdfa1b0cc476dacd560a1323cbf08.md    Rickert OOO  *May be missing things, think this is close to...   \n",
       "Business Development 87de3306dd7a4e119068567e0d... Other:       <aside>💡 This page gather all our processes an...   \n",
       "MLB f1984142190041aa8c237f85743c902e.md            MLB          ### Team MLB[Team Roster](MLB%20f1984142190041...   \n",
       "Crypto ffd4609240e144bbad3354c4e6c1cb23.md         Crypto       [Ethereum merge](Crypto%20ffd4609240e144bbad33...   \n",
       "Sorare blockchain event endpoint d6c7e7c2ce1847... Other        Sorare was initially operating on Ethereum Lay...   \n",
       "\n",
       "                                                                tokens  \n",
       "source                                             heading              \n",
       "Rickert OOO bfccdfa1b0cc476dacd560a1323cbf08.md    Rickert OOO    1143  \n",
       "Business Development 87de3306dd7a4e119068567e0d... Other:          803  \n",
       "MLB f1984142190041aa8c237f85743c902e.md            MLB             756  \n",
       "Crypto ffd4609240e144bbad3354c4e6c1cb23.md         Crypto           62  \n",
       "Sorare blockchain event endpoint d6c7e7c2ce1847... Other           566  "
      ]
     },
     "execution_count": 195,
     "metadata": {},
     "output_type": "execute_result"
    }
   ],
   "source": [
    "df = pd.DataFrame(pages, columns=[\"source\", \"heading\", \"content\", \"tokens\"])\n",
    "df = df[df.tokens>40]\n",
    "df = df.set_index([\"source\", \"heading\"])\n",
    "df.head(5)"
   ]
  },
  {
   "cell_type": "code",
   "execution_count": 196,
   "id": "735de47e",
   "metadata": {},
   "outputs": [
    {
     "data": {
      "image/png": "[encoded data removed]",
      "text/plain": [
       "<Figure size 640x480 with 1 Axes>"
      ]
     },
     "metadata": {},
     "output_type": "display_data"
    }
   ],
   "source": [
    "df[['tokens']].hist()\n",
    "plt.xlabel('Tokens')\n",
    "plt.ylabel('Sections')\n",
    "plt.show()"
   ]
  },
  {
   "cell_type": "code",
   "execution_count": 201,
   "id": "7f4ed173",
   "metadata": {},
   "outputs": [],
   "source": [
    "COMPLETIONS_MODEL = \"text-davinci-003\"\n",
    "EMBEDDING_MODEL = \"text-embedding-ada-002\"\n",
    "\n",
    "def get_embedding(text, model=EMBEDDING_MODEL):\n",
    "    result = openai.Embedding.create(\n",
    "      model=model,\n",
    "      input=text\n",
    "    )\n",
    "    return result[\"data\"][0][\"embedding\"]\n",
    "\n",
    "def compute_doc_embeddings(df):\n",
    "    return {\n",
    "        (idx): get_embedding(r.content) for idx, r in tqdm(df.iterrows(), total=len(df))\n",
    "    }\n"
   ]
  },
  {
   "cell_type": "code",
   "execution_count": 202,
   "id": "2f549f18",
   "metadata": {},
   "outputs": [
    {
     "data": {
      "application/vnd.jupyter.widget-view+json": {
       "model_id": "4be14c147a3b4672acc74364fdbe41cb",
       "version_major": 2,
       "version_minor": 0
      },
      "text/plain": [
       "  0%|          | 0/539 [00:00<?, ?it/s]"
      ]
     },
     "metadata": {},
     "output_type": "display_data"
    }
   ],
   "source": [
    "document_embeddings = compute_doc_embeddings(df)"
   ]
  },
  {
   "cell_type": "code",
   "execution_count": 203,
   "id": "8bf438dc",
   "metadata": {},
   "outputs": [
    {
     "name": "stdout",
     "output_type": "stream",
     "text": [
      "('Rickert OOO bfccdfa1b0cc476dacd560a1323cbf08.md', 'Rickert OOO') : [-0.0016666308511048555, -0.005373339634388685, -0.009134677238762379, -0.02477467805147171, -0.02696700021624565]... (1536 entries)\n"
     ]
    }
   ],
   "source": [
    "example_entry = list(document_embeddings.items())[0]\n",
    "# print(example_entry)\n",
    "print(f\"{example_entry[0]} : {example_entry[1][:5]}... ({len(example_entry[1])} entries)\")"
   ]
  },
  {
   "cell_type": "code",
   "execution_count": 204,
   "id": "47cea14a",
   "metadata": {},
   "outputs": [],
   "source": [
    "def vector_similarity(x, y):\n",
    "    return np.dot(np.array(x), np.array(y))\n",
    "\n",
    "def order_document_sections_by_query_similarity(query, contexts):\n",
    "    query_embedding = get_embedding(query)\n",
    "    document_similarities = sorted([\n",
    "        (vector_similarity(query_embedding, doc_embedding), doc_index) for doc_index, doc_embedding in contexts.items()\n",
    "    ], reverse=True)    \n",
    "    return document_similarities\n"
   ]
  },
  {
   "cell_type": "code",
   "execution_count": 205,
   "id": "bca1f616",
   "metadata": {},
   "outputs": [
    {
     "data": {
      "text/plain": [
       "[(0.7884052686592682,\n",
       "  ('Rickert OOO bfccdfa1b0cc476dacd560a1323cbf08.md', 'Rickert OOO')),\n",
       " (0.7678320087041294,\n",
       "  ('Eng Management Notes 148110389bb749a0bd6a739da9201051/MLB ↔ Platform 5d0aac6ab1c04109a5a7d054e60116f4.md',\n",
       "   'Questions')),\n",
       " (0.7461937023052492,\n",
       "  ('Product 928cf26963414baa9509dd32289d7541/External Consultants 35c0cc0603ca473ea1ee7854c13e04c2.md',\n",
       "   'External Consultants')),\n",
       " (0.7455394724869192,\n",
       "  ('Eng Management Notes 148110389bb749a0bd6a739da9201051/Contractor Notes db135c9497e64b8c91dd8f4dcc61e8a7.md',\n",
       "   'Contractor Notes')),\n",
       " (0.7409580408114178,\n",
       "  ('Eng Management Notes 148110389bb749a0bd6a739da9201051/Hallie b641517f68c84a68aeb604d24bcea5a9.md',\n",
       "   'Hallie'))]"
      ]
     },
     "execution_count": 205,
     "metadata": {},
     "output_type": "execute_result"
    }
   ],
   "source": [
    "order_document_sections_by_query_similarity(\"what is rickert doing exactly?\", document_embeddings)[:5]"
   ]
  },
  {
   "cell_type": "code",
   "execution_count": 218,
   "id": "354e2d7b",
   "metadata": {},
   "outputs": [],
   "source": [
    "MAX_SECTION_LEN = 3000\n",
    "SEPARATOR = \"\\n* \"\n",
    "separator_len = len(encoding.encode(SEPARATOR))\n"
   ]
  },
  {
   "cell_type": "code",
   "execution_count": 217,
   "id": "d208dcb2",
   "metadata": {},
   "outputs": [],
   "source": [
    "def construct_prompt(question, context_embeddings, df):\n",
    "    most_relevant_document_sections = order_document_sections_by_query_similarity(question, context_embeddings)\n",
    "    chosen_sections = []\n",
    "    chosen_sections_len = 0\n",
    "    chosen_sections_indexes = []\n",
    "    for _, section_index in most_relevant_document_sections:\n",
    "        # add contexts until we run out of space\n",
    "        document_section = df.loc[section_index]\n",
    "        chosen_sections_len += document_section.tokens + separator_len\n",
    "        if chosen_sections_len > MAX_SECTION_LEN:\n",
    "            break\n",
    "            \n",
    "        chosen_sections.append(SEPARATOR + document_section.content.replace(\"\\n\", \" \"))\n",
    "        chosen_sections_indexes.append(str(section_index))\n",
    "            \n",
    "    print(f\"Selected {len(chosen_sections)} document sections:\")\n",
    "    print(\"\\n\".join(chosen_sections_indexes))    \n",
    "    header = \"\"\"Answer the question as truthfully as possible using the provided context, and if the answer is not contained within the text below, say \"I don't know.\"\\n\\nContext:\\n\"\"\"\n",
    "    return header + \"\".join(chosen_sections) + \"\\n\\n Q: \" + question + \"\\n A:\"\n"
   ]
  },
  {
   "cell_type": "code",
   "execution_count": 208,
   "id": "980789b7",
   "metadata": {},
   "outputs": [],
   "source": [
    "COMPLETIONS_API_PARAMS = {\n",
    "    # We use temperature of 0.0 because it gives the most predictable, factual answer.\n",
    "    \"temperature\": 0.0,\n",
    "    \"max_tokens\": 300,\n",
    "    \"model\": COMPLETIONS_MODEL,\n",
    "}"
   ]
  },
  {
   "cell_type": "code",
   "execution_count": 213,
   "id": "2844d773",
   "metadata": {},
   "outputs": [],
   "source": [
    "def answer_query_with_context(\n",
    "    query: str,\n",
    "    df: pd.DataFrame,\n",
    "    document_embeddings: dict[(str, str), np.array],\n",
    "    show_prompt: bool = False\n",
    ") -> str:\n",
    "    prompt = construct_prompt(\n",
    "        query,\n",
    "        document_embeddings,\n",
    "        df\n",
    "    )\n",
    "    \n",
    "    if show_prompt:\n",
    "        print(prompt)\n",
    "\n",
    "    response = openai.Completion.create(\n",
    "                prompt=prompt,\n",
    "                **COMPLETIONS_API_PARAMS\n",
    "            )\n",
    "\n",
    "    return response[\"choices\"][0][\"text\"].strip(\" \\n\")\n",
    "\n",
    "def ask(q, df=df, embeds=document_embeddings):\n",
    "    answer = answer_query_with_context(q, df, embeds)\n",
    "    print(f\"\\nQ: {q}\\nA: {answer}\")"
   ]
  },
  {
   "cell_type": "code",
   "execution_count": 219,
   "id": "4879a693",
   "metadata": {},
   "outputs": [
    {
     "name": "stdout",
     "output_type": "stream",
     "text": [
      "Selected 6 document sections:\n",
      "('Scratchpad 9d9ba90773b344678e570406b4dfc110/NPS is a poor KPI 66b18634a05d42489d81543ea7479f22.md', 'Appendix')\n",
      "('Sorare Key Indicators 2aa9b1a126b4414fa1edff315b3643fd.md', 'KPIs')\n",
      "('Scratchpad 9d9ba90773b344678e570406b4dfc110.md', 'Scratchpad')\n",
      "('Leadership team 6d8774ea35fb4481ba34dac53c50e15c/Draft Highly functional Product & Engineering orga c24058d883b845e5b7849643a07f8375.md', 'Draft: Highly functional Product & Engineering organisations')\n",
      "('Data 8bc7fd89459546249ab5371f64a7bb65/Main KPIs and definition b585950f2b97448a921206dfe739e21a.md', 'Main KPIs and definition')\n",
      "('Leadership team 6d8774ea35fb4481ba34dac53c50e15c/1-1 Meeting notes 85a83acf18004055848ebdb9e0c0bec1.md', 'Old format (history)')\n",
      "\n",
      "Q: is NPS a good or bad KPI?\n",
      "A: NPS is a poor KPI.\n"
     ]
    }
   ],
   "source": [
    "ask(\"is NPS a good or bad KPI?\")"
   ]
  },
  {
   "cell_type": "code",
   "execution_count": 223,
   "id": "19a48018",
   "metadata": {},
   "outputs": [
    {
     "name": "stdout",
     "output_type": "stream",
     "text": [
      "Selected 5 document sections:\n",
      "('Scratchpad 9d9ba90773b344678e570406b4dfc110/NPS is a poor KPI 66b18634a05d42489d81543ea7479f22.md', 'Appendix')\n",
      "('Scratchpad 9d9ba90773b344678e570406b4dfc110.md', 'Scratchpad')\n",
      "('Sorare Key Indicators 2aa9b1a126b4414fa1edff315b3643fd.md', 'KPIs')\n",
      "('Data 8bc7fd89459546249ab5371f64a7bb65/Main KPIs and definition b585950f2b97448a921206dfe739e21a.md', 'Main KPIs and definition')\n",
      "('Eng Management Notes 148110389bb749a0bd6a739da9201051/How to GM How Squads Run cb3efff9f6804ccf8f407052b7a955be.md', 'Growth Process')\n",
      "\n",
      "Q: why is NPS a poor KPI?\n",
      "A: NPS is a poor KPI because it is an unscientific, varied, and easily gamed metric that is harmful if used as a key business metric. It is unclear how it rolls up to the business metrics that actually matter, it suffers from an unacceptable amount of variance, making interpretation misleading at best, and it effectively pretends that noise is science.\n"
     ]
    }
   ],
   "source": [
    "ask(\"why is NPS a poor KPI?\")"
   ]
  }
 ],
 "metadata": {
  "kernelspec": {
   "display_name": "Python 3 (ipykernel)",
   "language": "python",
   "name": "python3"
  },
  "language_info": {
   "codemirror_mode": {
    "name": "ipython",
    "version": 3
   },
   "file_extension": ".py",
   "mimetype": "text/x-python",
   "name": "python",
   "nbconvert_exporter": "python",
   "pygments_lexer": "ipython3",
   "version": "3.10.4"
  }
 },
 "nbformat": 4,
 "nbformat_minor": 5
}
