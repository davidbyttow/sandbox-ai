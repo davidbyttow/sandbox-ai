{
 "cells": [
  {
   "cell_type": "code",
   "execution_count": 2,
   "id": "de0226d3",
   "metadata": {},
   "outputs": [
    {
     "name": "stdout",
     "output_type": "stream",
     "text": [
      "The autoreload extension is already loaded. To reload it, use:\n",
      "  %reload_ext autoreload\n"
     ]
    }
   ],
   "source": [
    "import os\n",
    "import sys\n",
    "sys.path.insert(0, os.path.abspath('../'))\n",
    "\n",
    "import numpy as np\n",
    "import random\n",
    "import matplotlib.pyplot as plt\n",
    "\n",
    "%load_ext autoreload\n",
    "\n",
    "def relu(x):\n",
    "    return np.maximum(0, x)\n",
    "\n",
    "def relu_deriv(x):\n",
    "    return np.where(x > 0, 1, 0)\n",
    "\n",
    "def leaky_relu(x, alpha=0.1):\n",
    "    return np.maximum(x, x * alpha)\n",
    "\n",
    "def leaky_relu_deriv(x, alpha=0.1):\n",
    "    dx = np.ones_like(x)\n",
    "    dx[alpha < 0] = alpha\n",
    "    return dx\n",
    "\n",
    "def sigmoid(x):\n",
    "    return 1 / (1 + np.exp(-x))\n",
    "\n",
    "def sigmoid_prime(x):\n",
    "    return sigmoid(x)*(1-sigmoid(x))\n",
    "\n",
    "def mse_loss(y_hat, y):\n",
    "    return np.sum((y_hat - y)**2) / y_hat.shape[0]\n",
    "\n",
    "def mse_loss_deriv(y_hat, y):\n",
    "    return 2 * (y_hat - y) / y_hat.shape[0]\n",
    "\n",
    "def binary_crossentropy(y, y_hat):\n",
    "    epsilon = 1e-7  # to avoid division by zero errors\n",
    "    y_hat = np.clip(y_hat, epsilon, 1. - epsilon)  # clip values to avoid NaNs\n",
    "    loss = -(y * np.log(y_hat) + (1 - y) * np.log(1 - y_hat))\n",
    "    return np.mean(loss)\n"
   ]
  },
  {
   "cell_type": "code",
   "execution_count": 3,
   "id": "b3ddc9db",
   "metadata": {},
   "outputs": [
    {
     "name": "stdout",
     "output_type": "stream",
     "text": [
      "\n",
      "0: loss=466.64566951858336\n",
      "\n",
      "73: loss=0.0063719273487708806\n",
      "[[ 9.98729412]\n",
      " [19.93319931]\n",
      " [29.87961723]]\n"
     ]
    }
   ],
   "source": [
    "class FFN:\n",
    "    def __init__(self, sizes):\n",
    "        self.sizes = sizes\n",
    "        self.num_layers = len(sizes)\n",
    "        self.biases = [np.zeros((k, 1)) for k in sizes[1:]]\n",
    "        self.weights = [np.random.randn(y, x) * 0.01 for x, y in zip(sizes[:-1], sizes[1:])]\n",
    "    \n",
    "    def act(self, x):\n",
    "        return leaky_relu(x)\n",
    "    \n",
    "    def act_deriv(self, x):\n",
    "        return leaky_relu_deriv(x)\n",
    "    \n",
    "    def forward(self, x):\n",
    "        act = x\n",
    "        for w, b in zip(self.weights, self.biases):\n",
    "            act = self.act(b + w @ act)\n",
    "        return act\n",
    "\n",
    "    def backward(self, x, y, debug=False):\n",
    "        eta = 1e-3\n",
    "        batch_size = x.shape[0]\n",
    "\n",
    "        zs = []\n",
    "        act = x\n",
    "        acts = [act]\n",
    "        for w, b in zip(self.weights, self.biases):\n",
    "            z = b + w @ act\n",
    "            zs.append(z)\n",
    "            act = self.act(z)\n",
    "            acts.append(act)\n",
    "\n",
    "        dbs = [np.zeros(b.shape) for b in self.biases]\n",
    "        dws = [np.zeros(w.shape) for w in self.weights]\n",
    "\n",
    "        delta = mse_loss_deriv(acts[-1], y)\n",
    "        for l in range(1, self.num_layers):\n",
    "            dz = self.act_deriv(zs[-l]) * delta\n",
    "            dbs[-l] = np.sum(dz, axis=0, keepdims=True)\n",
    "            dws[-l] = dz @ acts[-l-1].T\n",
    "            delta = self.weights[-l].T @ dz\n",
    "        \n",
    "        for i in range(len(dws)):\n",
    "            self.weights[i] -= eta * dws[i]\n",
    "            self.biases[i] -= eta * dbs[i]\n",
    "        \n",
    "x_train = np.array([[1], [2], [3]])\n",
    "y_train = np.array([[10], [20], [30]])\n",
    "\n",
    "nn = FFN([3, 10, 3])\n",
    "losses = []\n",
    "for n in range(1000):\n",
    "    y_hat = nn.forward(x_train)\n",
    "    loss = mse_loss(y_hat, y_train)\n",
    "    losses.append(loss)\n",
    "    if n%100 == 0:\n",
    "        print(f'\\n{n}: {loss=}')\n",
    "    if abs(loss) < 0.01:\n",
    "        break\n",
    "    nn.backward(x_train, y_train, n%100==0)\n",
    "print(f'\\n{n}: {loss=}')\n",
    "print(nn.forward(x_train))\n"
   ]
  },
  {
   "cell_type": "code",
   "execution_count": 4,
   "id": "580887fb",
   "metadata": {
    "scrolled": false
   },
   "outputs": [
    {
     "data": {
      "image/png": "[encoded data removed]",
      "text/plain": [
       "<Figure size 640x480 with 1 Axes>"
      ]
     },
     "metadata": {},
     "output_type": "display_data"
    }
   ],
   "source": [
    "plt.plot(losses)\n",
    "plt.show()"
   ]
  },
  {
   "cell_type": "code",
   "execution_count": 11,
   "id": "e950d1ce",
   "metadata": {},
   "outputs": [
    {
     "name": "stdout",
     "output_type": "stream",
     "text": [
      "<module 'simplenn.nn' from '/Users/david.byttow/src/go/src/github.com/davidbyttow/sandbox-ai/simplenn/nn.py'>\n",
      "\n",
      "0: loss=102.9638330420072\n",
      "\n",
      "100: loss=0.7179449041154703\n",
      "\n",
      "137: loss=0.00962498884755793\n",
      "[[9.90189297]]\n"
     ]
    }
   ],
   "source": [
    "%autoreload 2\n",
    "\n",
    "from simplenn import nn\n",
    "\n",
    "print(nn)\n",
    "\n",
    "x_train = np.array([[1]])\n",
    "y_train = np.array([[10]])\n",
    "\n",
    "model = nn.Sequential([\n",
    "    nn.LinearLayer(1, 2),\n",
    "    nn.LeakyRelu(),\n",
    "    nn.LinearLayer(2, 1),\n",
    "    nn.LeakyRelu(),\n",
    "])\n",
    "\n",
    "loss_fn = nn.MSELoss()\n",
    "\n",
    "losses = []\n",
    "lr = 1e-3\n",
    "for n in range(1000):\n",
    "    y_hat = model.forward(x_train)\n",
    "\n",
    "    loss = loss_fn.forward(y_hat, y_train)\n",
    "    losses.append(loss)\n",
    "    if n%100 == 0:\n",
    "        print(f'\\n{n}: {loss=}')\n",
    "    if abs(loss) < 0.01:\n",
    "        break\n",
    "    \n",
    "    delta = loss_fn.backward()\n",
    "    model.backward(delta)\n",
    "    model.update_params(lr)\n",
    "    \n",
    "\n",
    "print(f'\\n{n}: {loss=}')\n",
    "print(model.forward(x_train))"
   ]
  },
  {
   "cell_type": "code",
   "execution_count": 12,
   "id": "94c6206d",
   "metadata": {},
   "outputs": [
    {
     "data": {
      "image/png": "[encoded data removed]",
      "text/plain": [
       "<Figure size 640x480 with 1 Axes>"
      ]
     },
     "metadata": {},
     "output_type": "display_data"
    }
   ],
   "source": [
    "plt.plot(losses)\n",
    "plt.show()"
   ]
  }
 ],
 "metadata": {
  "kernelspec": {
   "display_name": "Python 3 (ipykernel)",
   "language": "python",
   "name": "python3"
  },
  "language_info": {
   "codemirror_mode": {
    "name": "ipython",
    "version": 3
   },
   "file_extension": ".py",
   "mimetype": "text/x-python",
   "name": "python",
   "nbconvert_exporter": "python",
   "pygments_lexer": "ipython3",
   "version": "3.10.4"
  }
 },
 "nbformat": 4,
 "nbformat_minor": 5
}
