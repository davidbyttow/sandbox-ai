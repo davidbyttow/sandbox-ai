{
 "cells": [
  {
   "cell_type": "code",
   "execution_count": 2,
   "id": "65417832",
   "metadata": {},
   "outputs": [],
   "source": [
    "import os\n",
    "import sys\n",
    "sys.path.insert(0, os.path.abspath('../'))"
   ]
  },
  {
   "cell_type": "code",
   "execution_count": 51,
   "id": "c9d69cfd",
   "metadata": {},
   "outputs": [
    {
     "name": "stdout",
     "output_type": "stream",
     "text": [
      "The autoreload extension is already loaded. To reload it, use:\n",
      "  %reload_ext autoreload\n"
     ]
    }
   ],
   "source": [
    "import torch\n",
    "import torchvision.datasets as datasets\n",
    "import torch.utils.data as data\n",
    "import torchvision.transforms as transforms\n",
    "\n",
    "%load_ext autoreload\n",
    "\n",
    "transform = transforms.Compose([\n",
    "    transforms.ToTensor(),\n",
    "    transforms.Normalize((0.1307,), (0.3081,))\n",
    "])\n",
    "\n",
    "def load_data(train, shuffle):\n",
    "    ds = datasets.MNIST(root='./data/.cache', train=train, transform=transform, download=True)\n",
    "    loader = torch.utils.data.DataLoader(ds, batch_size=1, shuffle=shuffle)\n",
    "    all_data = []\n",
    "    for data, labels in loader:\n",
    "        all_data.append((data, labels))\n",
    "    return all_data\n"
   ]
  },
  {
   "cell_type": "code",
   "execution_count": 52,
   "id": "d5752220",
   "metadata": {},
   "outputs": [],
   "source": [
    "train_data = load_data(True, False)\n",
    "test_data = load_data(False, False)"
   ]
  },
  {
   "cell_type": "code",
   "execution_count": 53,
   "id": "3569ee64",
   "metadata": {},
   "outputs": [
    {
     "name": "stdout",
     "output_type": "stream",
     "text": [
      "label: 5\n"
     ]
    },
    {
     "data": {
      "image/png": "[encoded data removed]",
      "text/plain": [
       "<Figure size 640x480 with 1 Axes>"
      ]
     },
     "metadata": {},
     "output_type": "display_data"
    }
   ],
   "source": [
    "import matplotlib.pyplot as plt\n",
    "\n",
    "img, label = train_data[0]\n",
    "\n",
    "print(f'label: {label.item()}')\n",
    "plt.imshow(img[0].squeeze(), cmap='gray');\n"
   ]
  },
  {
   "cell_type": "code",
   "execution_count": 54,
   "id": "61ab914c",
   "metadata": {},
   "outputs": [],
   "source": [
    "import numpy as np\n",
    "import torch.nn.functional as F\n",
    "import sys\n",
    "\n",
    "from simplenn import nn\n",
    "\n",
    "%autoreload 2\n",
    "\n",
    "def transform_data(data, targets):\n",
    "    data = data.numpy().squeeze().reshape(data.shape[0], 784)\n",
    "    targets = targets.numpy().reshape(data.shape[0], 1)\n",
    "    y = np.zeros((targets.size, 10))\n",
    "    y[np.arange(targets.shape[0]), targets.T] = 1\n",
    "    return data, y\n",
    "\n",
    "def transform_all(data):\n",
    "    x = data.copy()\n",
    "    for i in range(len(data)):\n",
    "        x[i] = transform_data(*data[i])\n",
    "    return x\n",
    "\n",
    "\n",
    "def create_batches(data, size):\n",
    "    batches = []\n",
    "    for i in range(0, len(data), size):\n",
    "        batch = data[i:i+size]\n",
    "        x, y = tuple(zip(*batch))\n",
    "        batches.append((np.concatenate(x, axis=0), np.concatenate(y, axis=0)))\n",
    "    return batches\n",
    "        \n",
    "\n",
    "train = transform_all(train_data)\n",
    "test = transform_all(test_data)\n"
   ]
  },
  {
   "cell_type": "code",
   "execution_count": 55,
   "id": "1419aa40",
   "metadata": {},
   "outputs": [
    {
     "name": "stdout",
     "output_type": "stream",
     "text": [
      "0: 3.8967132018472164\n",
      "1: 1.4749795176013947\n",
      "2: 0.9443036229158809\n",
      "3: 0.75796580383347\n",
      "4: 0.6720349248469965\n",
      "5: 0.6216992155309814\n",
      "6: 0.5875900013436959\n",
      "7: 0.562025954648268\n",
      "8: 0.5415147241128428\n",
      "9: 0.5244168692186785\n",
      "Training loss: 0.5244168692186785\n"
     ]
    }
   ],
   "source": [
    "import scipy\n",
    "\n",
    "fnn = nn.Sequential([\n",
    "    nn.LinearLayer(784, 50),\n",
    "    nn.Relu(),\n",
    "    nn.LinearLayer(50, 10),\n",
    "    # TODO(d): figure out how to deal with softmax and cross-entropy\n",
    "#     nn.Softmax(axis=0),\n",
    "])\n",
    "\n",
    "batch_size = 32\n",
    "max_samples = 60000\n",
    "\n",
    "train_batches = create_batches(train[:max_samples], batch_size)\n",
    "test_batches = create_batches(test[:max_samples], batch_size)\n",
    "\n",
    "epochs = 10\n",
    "lr = 1e-2\n",
    "\n",
    "avg_loss = 0\n",
    "for n in range(epochs):\n",
    "    epoch_loss = 0\n",
    "    for x, y in train_batches:\n",
    "        logits = fnn.forward(x)\n",
    "        probs = scipy.special.softmax(logits, axis=1)\n",
    "        loss = -1/len(probs) * np.sum(y * np.log(probs+1e-10))\n",
    "        epoch_loss += loss\n",
    "        grad = probs - y\n",
    "        fnn.backward(grad)\n",
    "        fnn.update_params(lr)\n",
    "    avg_loss = epoch_loss / len(train_batches)\n",
    "    print(f'{n}: {avg_loss}')\n",
    "\n",
    "print(f'Training loss: {avg_loss}')    "
   ]
  },
  {
   "cell_type": "code",
   "execution_count": 56,
   "id": "850bc85f",
   "metadata": {},
   "outputs": [
    {
     "name": "stdout",
     "output_type": "stream",
     "text": [
      "Test accuracy: 84.36%\n"
     ]
    }
   ],
   "source": [
    "def get_accuracy(pred, y):\n",
    "    return np.sum(pred == y) / y.size\n",
    "\n",
    "correct = 0\n",
    "for x, y in test:\n",
    "    logits = fnn.forward(x)\n",
    "    pred = np.argmax(logits, -1)\n",
    "    correct += get_accuracy(pred, np.argmax(y, -1))\n",
    "print(f'Test accuracy: {correct / len(test) * 100}%')\n"
   ]
  },
  {
   "cell_type": "code",
   "execution_count": 46,
   "id": "a655ca33",
   "metadata": {},
   "outputs": [
    {
     "name": "stdout",
     "output_type": "stream",
     "text": [
      "0: 6.191795225829614\n",
      "1: 2.2989873027876495\n",
      "2: 2.2989873027876495\n",
      "3: 2.2989873027876495\n",
      "4: 2.2989873027876495\n",
      "5: 2.2989873027876495\n"
     ]
    },
    {
     "ename": "KeyboardInterrupt",
     "evalue": "",
     "output_type": "error",
     "traceback": [
      "\u001b[0;31m---------------------------------------------------------------------------\u001b[0m",
      "\u001b[0;31mKeyboardInterrupt\u001b[0m                         Traceback (most recent call last)",
      "Cell \u001b[0;32mIn[46], line 39\u001b[0m\n\u001b[1;32m     37\u001b[0m     epoch_loss \u001b[38;5;241m+\u001b[39m\u001b[38;5;241m=\u001b[39m loss\n\u001b[1;32m     38\u001b[0m     grad \u001b[38;5;241m=\u001b[39m probs \u001b[38;5;241m-\u001b[39m y\n\u001b[0;32m---> 39\u001b[0m     \u001b[43mcnn\u001b[49m\u001b[38;5;241;43m.\u001b[39;49m\u001b[43mbackward\u001b[49m\u001b[43m(\u001b[49m\u001b[43mgrad\u001b[49m\u001b[43m)\u001b[49m\n\u001b[1;32m     40\u001b[0m     cnn\u001b[38;5;241m.\u001b[39mupdate_params(lr)\n\u001b[1;32m     41\u001b[0m avg_loss \u001b[38;5;241m=\u001b[39m epoch_loss \u001b[38;5;241m/\u001b[39m \u001b[38;5;28mlen\u001b[39m(batches)\n",
      "File \u001b[0;32m~/src/go/src/github.com/davidbyttow/sandbox-ai/simplenn/nn.py:124\u001b[0m, in \u001b[0;36mSequential.backward\u001b[0;34m(self, grad)\u001b[0m\n\u001b[1;32m    122\u001b[0m \u001b[38;5;28;01mdef\u001b[39;00m \u001b[38;5;21mbackward\u001b[39m(\u001b[38;5;28mself\u001b[39m, grad):\n\u001b[1;32m    123\u001b[0m     \u001b[38;5;28;01mfor\u001b[39;00m layer \u001b[38;5;129;01min\u001b[39;00m \u001b[38;5;28mreversed\u001b[39m(\u001b[38;5;28mself\u001b[39m\u001b[38;5;241m.\u001b[39mlayers):\n\u001b[0;32m--> 124\u001b[0m         grad \u001b[38;5;241m=\u001b[39m \u001b[43mlayer\u001b[49m\u001b[38;5;241;43m.\u001b[39;49m\u001b[43mbackward\u001b[49m\u001b[43m(\u001b[49m\u001b[43mgrad\u001b[49m\u001b[43m)\u001b[49m\n\u001b[1;32m    125\u001b[0m     \u001b[38;5;28;01mreturn\u001b[39;00m grad\n",
      "File \u001b[0;32m~/src/go/src/github.com/davidbyttow/sandbox-ai/simplenn/nn.py:258\u001b[0m, in \u001b[0;36mConv2d.backward\u001b[0;34m(self, output_grad)\u001b[0m\n\u001b[1;32m    256\u001b[0m             \u001b[38;5;66;03m# print(x, y, grad_patch.shape, filters_rotated.shape)\u001b[39;00m\n\u001b[1;32m    257\u001b[0m             input_prod \u001b[38;5;241m=\u001b[39m grad_patch \u001b[38;5;241m*\u001b[39m filters_rotated\n\u001b[0;32m--> 258\u001b[0m             input_sum \u001b[38;5;241m=\u001b[39m \u001b[43mnp\u001b[49m\u001b[38;5;241;43m.\u001b[39;49m\u001b[43msum\u001b[49m\u001b[43m(\u001b[49m\u001b[43minput_prod\u001b[49m\u001b[43m,\u001b[49m\u001b[43m \u001b[49m\u001b[43maxis\u001b[49m\u001b[38;5;241;43m=\u001b[39;49m\u001b[43m(\u001b[49m\u001b[38;5;241;43m0\u001b[39;49m\u001b[43m,\u001b[49m\u001b[43m \u001b[49m\u001b[38;5;241;43m1\u001b[39;49m\u001b[43m,\u001b[49m\u001b[43m \u001b[49m\u001b[38;5;241;43m3\u001b[39;49m\u001b[43m)\u001b[49m\u001b[43m)\u001b[49m\n\u001b[1;32m    259\u001b[0m             input_grad[batch_idx, row, col, :] \u001b[38;5;241m+\u001b[39m\u001b[38;5;241m=\u001b[39m input_sum\n\u001b[1;32m    260\u001b[0m \u001b[38;5;28;01mreturn\u001b[39;00m input_grad\n",
      "File \u001b[0;32m<__array_function__ internals>:180\u001b[0m, in \u001b[0;36msum\u001b[0;34m(*args, **kwargs)\u001b[0m\n",
      "File \u001b[0;32m~/Library/Caches/pypoetry/virtualenvs/sandbox-ai-hXSoHufX-py3.10/lib/python3.10/site-packages/numpy/core/fromnumeric.py:2183\u001b[0m, in \u001b[0;36m_sum_dispatcher\u001b[0;34m(a, axis, dtype, out, keepdims, initial, where)\u001b[0m\n\u001b[1;32m   2113\u001b[0m \u001b[38;5;250m    \u001b[39m\u001b[38;5;124;03m\"\"\"\u001b[39;00m\n\u001b[1;32m   2114\u001b[0m \u001b[38;5;124;03m    Clip (limit) the values in an array.\u001b[39;00m\n\u001b[1;32m   2115\u001b[0m \n\u001b[0;32m   (...)\u001b[0m\n\u001b[1;32m   2178\u001b[0m \n\u001b[1;32m   2179\u001b[0m \u001b[38;5;124;03m    \"\"\"\u001b[39;00m\n\u001b[1;32m   2180\u001b[0m     \u001b[38;5;28;01mreturn\u001b[39;00m _wrapfunc(a, \u001b[38;5;124m'\u001b[39m\u001b[38;5;124mclip\u001b[39m\u001b[38;5;124m'\u001b[39m, a_min, a_max, out\u001b[38;5;241m=\u001b[39mout, \u001b[38;5;241m*\u001b[39m\u001b[38;5;241m*\u001b[39mkwargs)\n\u001b[0;32m-> 2183\u001b[0m \u001b[38;5;28;01mdef\u001b[39;00m \u001b[38;5;21m_sum_dispatcher\u001b[39m(a, axis\u001b[38;5;241m=\u001b[39m\u001b[38;5;28;01mNone\u001b[39;00m, dtype\u001b[38;5;241m=\u001b[39m\u001b[38;5;28;01mNone\u001b[39;00m, out\u001b[38;5;241m=\u001b[39m\u001b[38;5;28;01mNone\u001b[39;00m, keepdims\u001b[38;5;241m=\u001b[39m\u001b[38;5;28;01mNone\u001b[39;00m,\n\u001b[1;32m   2184\u001b[0m                     initial\u001b[38;5;241m=\u001b[39m\u001b[38;5;28;01mNone\u001b[39;00m, where\u001b[38;5;241m=\u001b[39m\u001b[38;5;28;01mNone\u001b[39;00m):\n\u001b[1;32m   2185\u001b[0m     \u001b[38;5;28;01mreturn\u001b[39;00m (a, out)\n\u001b[1;32m   2188\u001b[0m \u001b[38;5;129m@array_function_dispatch\u001b[39m(_sum_dispatcher)\n\u001b[1;32m   2189\u001b[0m \u001b[38;5;28;01mdef\u001b[39;00m \u001b[38;5;21msum\u001b[39m(a, axis\u001b[38;5;241m=\u001b[39m\u001b[38;5;28;01mNone\u001b[39;00m, dtype\u001b[38;5;241m=\u001b[39m\u001b[38;5;28;01mNone\u001b[39;00m, out\u001b[38;5;241m=\u001b[39m\u001b[38;5;28;01mNone\u001b[39;00m, keepdims\u001b[38;5;241m=\u001b[39mnp\u001b[38;5;241m.\u001b[39m_NoValue,\n\u001b[1;32m   2190\u001b[0m         initial\u001b[38;5;241m=\u001b[39mnp\u001b[38;5;241m.\u001b[39m_NoValue, where\u001b[38;5;241m=\u001b[39mnp\u001b[38;5;241m.\u001b[39m_NoValue):\n",
      "\u001b[0;31mKeyboardInterrupt\u001b[0m: "
     ]
    }
   ],
   "source": [
    "import scipy\n",
    "import random\n",
    "\n",
    "# img = train[0][0].reshape(1, 1, 28, 28)\n",
    "# print(img.shape)\n",
    "\n",
    "# plt.imshow(img.squeeze(), cmap='gray');\n",
    "\n",
    "cnn = nn.Sequential([\n",
    "    nn.Conv2d(1, 16, kernel_size=3),\n",
    "    nn.Conv2d(16, 16, kernel_size=3),\n",
    "    nn.MaxPool2d(kernel_size=2, stride=2),\n",
    "    nn.Conv2d(16, 32, kernel_size=3),\n",
    "    nn.Conv2d(32, 32, kernel_size=3),\n",
    "    nn.MaxPool2d(kernel_size=2, stride=2),\n",
    "    nn.Reshape((batch_size, -1)),\n",
    "    nn.LinearLayer(512, 50),\n",
    "    nn.Relu(),\n",
    "    nn.LinearLayer(50, 10),\n",
    "    # TODO(d): figure out how to deal with softmax and cross-entropy\n",
    "#     nn.Softmax(axis=0),\n",
    "])\n",
    "\n",
    "\n",
    "max_batches = 20\n",
    "batches = train_batches[:max_batches]\n",
    "\n",
    "avg_loss = 0\n",
    "for n in range(epochs):\n",
    "    epoch_loss = 0\n",
    "    random.shuffle(batches)\n",
    "    for x, y in batches:\n",
    "        x = x.reshape(32, 28, 28, 1)\n",
    "        logits = cnn.forward(x)\n",
    "        probs = nn.softmax(logits)\n",
    "        loss = -1/len(probs) * np.sum(y * np.log(probs+1e-10))\n",
    "        epoch_loss += loss\n",
    "        grad = probs - y\n",
    "        cnn.backward(grad)\n",
    "        cnn.update_params(lr)\n",
    "    avg_loss = epoch_loss / len(batches)\n",
    "    print(f'{n}: {avg_loss}')\n",
    "\n",
    "print(f'Training loss: {avg_loss}')    \n"
   ]
  },
  {
   "cell_type": "code",
   "execution_count": 43,
   "id": "7f7902a0",
   "metadata": {},
   "outputs": [
    {
     "name": "stdout",
     "output_type": "stream",
     "text": [
      "Test accuracy: 13.4375%\n"
     ]
    }
   ],
   "source": [
    "correct = 0\n",
    "for x, y in test_batches[:20]:\n",
    "    x = x.reshape(x.shape[0], 28, 28, 1)\n",
    "    logits = cnn.forward(x)\n",
    "    pred = np.argmax(logits, -1)\n",
    "    correct += get_accuracy(pred, np.argmax(y, -1))\n",
    "print(f'Test accuracy: {correct / len(test_batches[:20]) * 100}%')\n"
   ]
  },
  {
   "cell_type": "code",
   "execution_count": 17,
   "id": "82704208",
   "metadata": {},
   "outputs": [
    {
     "name": "stdout",
     "output_type": "stream",
     "text": [
      "(1, 3, 3, 1)\n",
      "(2, 2, 1, 1)\n",
      "[[2. 2.]\n",
      " [2. 2.]]\n"
     ]
    },
    {
     "data": {
      "text/plain": [
       "array([[0., 0., 0., 0.],\n",
       "       [0., 2., 2., 0.],\n",
       "       [0., 2., 2., 0.],\n",
       "       [0., 0., 0., 0.]])"
      ]
     },
     "execution_count": 17,
     "metadata": {},
     "output_type": "execute_result"
    }
   ],
   "source": [
    "conv = nn.Conv2d(1, 1, 2)\n",
    "\n",
    "img = np.array([\n",
    "    [0,1,2],\n",
    "    [0,1,2],\n",
    "    [0,1,2],\n",
    "])\n",
    "img = img.reshape(1, 3, 3, 1)\n",
    "print(img.shape)\n",
    "\n",
    "print(conv.filters.shape)\n",
    "conv.filters = np.array([\n",
    "    [-1, 1],\n",
    "    [-1, 1],\n",
    "])\n",
    "conv.filters = conv.filters.reshape(2, 2, 1, 1)\n",
    "\n",
    "pred = conv.forward(img)\n",
    "print(pred[0,:,:,0])\n",
    "\n",
    "#conv.backward()\n",
    "\n",
    "np.pad(pred[0,:,:,0], ((1, 1), (1, 1)), mode='constant', constant_values=0)\n"
   ]
  },
  {
   "cell_type": "code",
   "execution_count": 83,
   "id": "544c9e3d",
   "metadata": {},
   "outputs": [
    {
     "name": "stdout",
     "output_type": "stream",
     "text": [
      "[[[[9. 9. 9. 9. 9. 9. 9. 9. 9. 9. 9. 9. 9. 9. 9. 9.]]]]\n",
      "[[[[16.]\n",
      "   [16.]\n",
      "   [16.]]\n",
      "\n",
      "  [[16.]\n",
      "   [16.]\n",
      "   [16.]]\n",
      "\n",
      "  [[16.]\n",
      "   [16.]\n",
      "   [16.]]]]\n",
      "tensor([[[[16., 16., 16.],\n",
      "          [16., 16., 16.],\n",
      "          [16., 16., 16.]]]], dtype=torch.float64)\n"
     ]
    }
   ],
   "source": [
    "import torch\n",
    "import torch.nn as tnn\n",
    "\n",
    "img = np.array([\n",
    "    [0,1,2],\n",
    "    [0,1,2],\n",
    "    [0,1,2],\n",
    "])\n",
    "\n",
    "sconv = nn.Conv2d(1, 16, kernel_size=3)\n",
    "sconv.filters = np.ones_like(sconv.filters)\n",
    "soutput = sconv.forward(img.reshape(1, 3, 3, 1))\n",
    "print(soutput)\n",
    "print(sconv.backward(np.ones_like(soutput)))\n",
    "\n",
    "tconv = tnn.Conv2d(1, 16, kernel_size=3, stride=1, bias=False)\n",
    "new_weights = torch.ones_like(tconv.weight).double()\n",
    "tconv.weight = tnn.Parameter(new_weights)\n",
    "tx = torch.tensor(img.reshape(1, 1, 3, 3).astype(float), requires_grad=True).double()\n",
    "output = tconv(tx)\n",
    "\n",
    "output.backward(torch.ones_like(output))\n",
    "print(tx.grad)"
   ]
  }
 ],
 "metadata": {
  "kernelspec": {
   "display_name": "Python 3 (ipykernel)",
   "language": "python",
   "name": "python3"
  },
  "language_info": {
   "codemirror_mode": {
    "name": "ipython",
    "version": 3
   },
   "file_extension": ".py",
   "mimetype": "text/x-python",
   "name": "python",
   "nbconvert_exporter": "python",
   "pygments_lexer": "ipython3",
   "version": "3.10.4"
  }
 },
 "nbformat": 4,
 "nbformat_minor": 5
}
