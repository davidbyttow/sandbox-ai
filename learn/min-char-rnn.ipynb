{
 "cells": [
  {
   "cell_type": "code",
   "execution_count": 153,
   "id": "4e7714fd",
   "metadata": {},
   "outputs": [
    {
     "name": "stdout",
     "output_type": "stream",
     "text": [
      "data has 50015 characters, 76 uniques\n"
     ]
    }
   ],
   "source": [
    "import numpy as np\n",
    "\n",
    "data = open('./data/pg.txt', 'r').read()\n",
    "chars = list(set(data))\n",
    "data_size, vocab_size = len(data), len(chars)\n",
    "print(f'data has {data_size} characters, {vocab_size} uniques')\n",
    "\n",
    "ctoi = {ch:i for i, ch in enumerate(chars)}\n",
    "itoc = {i:ch for i, ch in enumerate(chars)}"
   ]
  },
  {
   "cell_type": "code",
   "execution_count": 154,
   "id": "b3a11c0a",
   "metadata": {},
   "outputs": [],
   "source": [
    "# hyperparameters\n",
    "hidden_size = 100\n",
    "seq_len = 25\n",
    "learning_rate = 0.2\n",
    "\n",
    "# model params\n",
    "w_xh = np.random.randn(hidden_size, vocab_size)*0.01 # input -> hidden\n",
    "w_hh = np.random.randn(hidden_size, hidden_size)*0.01 # hidden -> hidden\n",
    "w_hy = np.random.randn(vocab_size, hidden_size)*0.01 # hidden -> output\n",
    "b_h = np.zeros((hidden_size, 1)) # hidden bias\n",
    "b_y = np.zeros((vocab_size, 1)) # output bias\n"
   ]
  },
  {
   "cell_type": "code",
   "execution_count": 155,
   "id": "3891df04",
   "metadata": {},
   "outputs": [],
   "source": [
    "def calc_loss(inputs, targets, hprev):\n",
    "  \"\"\"\n",
    "  inputs,targets are both list of integers.\n",
    "  hprev is Hx1 array of initial hidden state\n",
    "  returns the loss, gradients on model parameters, and last hidden state\n",
    "  \"\"\"\n",
    "  xs, hs, ys, ps = {}, {}, {}, {}\n",
    "  hs[-1] = np.copy(hprev)\n",
    "  loss = 0\n",
    "  \n",
    "  # forward pass\n",
    "  for t in range(len(inputs)):\n",
    "    # one-hot encoding\n",
    "    xs[t] = np.zeros((vocab_size, 1))\n",
    "    xs[t][inputs[t]] = 1\n",
    "    hs[t] = np.tanh(np.dot(w_xh, xs[t]) + np.dot(w_hh, hs[t-1]) + b_h) # hidden state\n",
    "    ys[t] = np.dot(w_hy, hs[t]) + b_y # log probs for next chars\n",
    "    ps[t] = np.exp(ys[t]) / np.sum(np.exp(ys[t])) # probs for next chars\n",
    "    loss += -np.log(ps[t][targets[t], 0]) # softmax\n",
    "\n",
    "  # backward pass\n",
    "  dw_xh, dw_hh, dw_hy = np.zeros_like(w_xh), np.zeros_like(w_hh), np.zeros_like(w_hy)\n",
    "  db_h, db_y = np.zeros_like(b_h), np.zeros_like(b_y)\n",
    "  d_hnext = np.zeros_like(hs[0])\n",
    "  for t in reversed(range(len(inputs))):\n",
    "    dy = np.copy(ps[t])\n",
    "    # https://cs231n.github.io/neural-networks-case-study/#grad\n",
    "    dy[targets[t]] -= 1 # backprop into Y\n",
    "    dw_hy += np.dot(dy, hs[t].T)\n",
    "    db_y += dy\n",
    "    dh = np.dot(w_hy.T, dy) + d_hnext # backprop into h\n",
    "    d_hraw = (1 - hs[t] * hs[t]) * dh # backprop through tanh non-linearity\n",
    "    db_h += d_hraw\n",
    "    dw_xh += np.dot(d_hraw, xs[t].T)\n",
    "    dw_hh += np.dot(d_hraw, hs[t-1].T)\n",
    "    d_hnext = np.dot(w_hh.T, d_hraw)\n",
    "\n",
    "  for dparam in [dw_xh, dw_hh, dw_hy, db_h, db_y]:\n",
    "    np.clip(dparam, -5, 5, out=dparam) # prevent exploding gradients\n",
    "  return loss, dw_xh, dw_hh, dw_hy, db_h, db_y, hs[len(inputs)-1]\n",
    "\n",
    "\n",
    "def sample(h, seed_ix, n):\n",
    "  \"\"\" \n",
    "  sample a sequence of integers from the model \n",
    "  h is memory state, seed_ix is seed letter for first time step\n",
    "  \"\"\"\n",
    "  x = np.zeros((vocab_size, 1))\n",
    "  x[seed_ix] = 1\n",
    "  indices = []\n",
    "  for t in range(n):\n",
    "    h = np.tanh(np.dot(w_xh, x) + np.dot(w_hh, h) + b_h)\n",
    "    y = np.dot(w_hy, h) + b_y\n",
    "    p = np.exp(y) / np.sum(np.exp(y))\n",
    "    ix = np.random.choice(range(vocab_size), p=p.ravel())\n",
    "    x = np.zeros((vocab_size, 1))\n",
    "    x[ix] = 1\n",
    "    indices.append(ix)\n",
    "  return indices"
   ]
  },
  {
   "cell_type": "code",
   "execution_count": 156,
   "id": "f197f166",
   "metadata": {},
   "outputs": [],
   "source": [
    "n, p = 0, 0\n",
    "mw_xh, mw_hh, mw_hy = np.zeros_like(w_xh), np.zeros_like(w_hh), np.zeros_like(w_hy)\n",
    "mb_h, mb_y = np.zeros_like(b_h), np.zeros_like(b_y)\n",
    "smooth_loss = -np.log(1.0/vocab_size)*seq_len"
   ]
  },
  {
   "cell_type": "code",
   "execution_count": null,
   "id": "3fde8dea",
   "metadata": {},
   "outputs": [
    {
     "name": "stdout",
     "output_type": "stream",
     "text": [
      "----\n",
      " a mo bere lostan thegfn'p bhiing startu tulipt ere fat anghacf seocore ondel't tave do it ptere to. bo o ware larke vepy meebs iser Ininzuse; thento thalrps ut sov there'lyn find what at os bis suess  \n",
      "----\n",
      "iter 0, loss: 54.84139602616046\n"
     ]
    }
   ],
   "source": [
    "n, p = 0, 0\n",
    "iters = 50000\n",
    "\n",
    "while n < iters:\n",
    "  # prepare inputs to go from left-to-right in steps (seq_len)\n",
    "  if p+seq_len+1 >= len(data) or n == 0:\n",
    "    hprev = np.zeros((hidden_size, 1)) # reset RNN memory\n",
    "    p = 0 # start at beginning of data\n",
    "  inputs = [ctoi[ch] for ch in data[p:p+seq_len]]\n",
    "  targets = [ctoi[ch] for ch in data[p+1:p+seq_len+1]]\n",
    "\n",
    "  if n % 1000 == 0:\n",
    "    sample_ix = sample(hprev, inputs[0], 200)\n",
    "    txt = ''.join(itoc[ix] for ix in sample_ix)\n",
    "    print(f'----\\n {txt} \\n----')\n",
    "\n",
    "  # forward seq_len characters through the net and fetch gradient\n",
    "  loss, dw_xh, dw_hh, dw_hy, db_h, db_y, hprev = calc_loss(inputs, targets, hprev)\n",
    "  smooth_loss = smooth_loss * 0.999 + loss * 0.001 # TODO: why is this good?\n",
    "\n",
    "  if n % 1000 == 0:\n",
    "    print(f'iter {n}, loss: {smooth_loss}')\n",
    "\n",
    "  # Adagrad parameter update\n",
    "  for param, dparam, mem in zip([w_xh, w_hh, w_hy, b_h, b_y],\n",
    "                                [dw_xh, dw_hh, dw_hy, db_h, db_y],\n",
    "                                [mw_xh, mw_hh, mw_hy, mb_h, mb_y]):\n",
    "    mem += dparam * dparam\n",
    "    param += -learning_rate * dparam / np.sqrt(mem + 1e-8)\n",
    "  p += seq_len\n",
    "  n += 1\n"
   ]
  }
 ],
 "metadata": {
  "kernelspec": {
   "display_name": "Python 3 (ipykernel)",
   "language": "python",
   "name": "python3"
  },
  "language_info": {
   "codemirror_mode": {
    "name": "ipython",
    "version": 3
   },
   "file_extension": ".py",
   "mimetype": "text/x-python",
   "name": "python",
   "nbconvert_exporter": "python",
   "pygments_lexer": "ipython3",
   "version": "3.10.4"
  }
 },
 "nbformat": 4,
 "nbformat_minor": 5
}
