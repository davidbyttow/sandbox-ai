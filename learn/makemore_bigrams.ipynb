{
 "cells": [
  {
   "cell_type": "code",
   "execution_count": 20,
   "id": "8380b587",
   "metadata": {},
   "outputs": [
    {
     "data": {
      "text/plain": [
       "['emma',\n",
       " 'olivia',\n",
       " 'ava',\n",
       " 'isabella',\n",
       " 'sophia',\n",
       " 'charlotte',\n",
       " 'mia',\n",
       " 'amelia',\n",
       " 'harper',\n",
       " 'evelyn']"
      ]
     },
     "execution_count": 20,
     "metadata": {},
     "output_type": "execute_result"
    }
   ],
   "source": [
    "import torch\n",
    "import matplotlib.pyplot as plt\n",
    "%matplotlib inline\n",
    "\n",
    "f = open('data/names.txt', 'r')\n",
    "words = f.read().split('\\n')\n",
    "words[:10]"
   ]
  },
  {
   "cell_type": "code",
   "execution_count": 21,
   "id": "0d8809a7",
   "metadata": {},
   "outputs": [
    {
     "data": {
      "text/plain": [
       "[(('n', '.'), 6763),\n",
       " (('a', '.'), 6640),\n",
       " (('a', 'n'), 5438),\n",
       " (('.', 'a'), 4410),\n",
       " (('e', '.'), 3983)]"
      ]
     },
     "execution_count": 21,
     "metadata": {},
     "output_type": "execute_result"
    }
   ],
   "source": [
    "b = {}\n",
    "for w in words:\n",
    "    chs = [\".\"] + list(w) + [\".\"]\n",
    "    for ch1, ch2 in zip(chs, chs[1:]):\n",
    "        bigram = (ch1, ch2)\n",
    "        b[bigram] = b.get(bigram, 0) + 1\n",
    "\n",
    "list(sorted(b.items(), key=lambda kv: -kv[1]))[:5]\n"
   ]
  },
  {
   "cell_type": "code",
   "execution_count": 22,
   "id": "2547ed17",
   "metadata": {},
   "outputs": [],
   "source": [
    "chars = sorted(list(set(''.join(words))))\n",
    "stoi = {s:i+1 for i,s in enumerate(chars)}\n",
    "stoi['.'] = 0\n",
    "itos = {i:s for s,i in stoi.items()}"
   ]
  },
  {
   "cell_type": "code",
   "execution_count": 23,
   "id": "d74a261e",
   "metadata": {},
   "outputs": [],
   "source": [
    "N = torch.zeros((27, 27), dtype=torch.int32)\n",
    "\n",
    "for w in words:\n",
    "    chs = [\".\"] + list(w) + [\".\"]\n",
    "    for a, b in zip(chs, chs[1:]):\n",
    "        ix1 = stoi[a]\n",
    "        ix2 = stoi[b]\n",
    "        N[ix1, ix2] += 1\n"
   ]
  },
  {
   "cell_type": "code",
   "execution_count": null,
   "id": "57360db9",
   "metadata": {},
   "outputs": [
    {
     "data": {
      "text/plain": [
       "(-0.5, 26.5, 26.5, -0.5)"
      ]
     },
     "execution_count": 24,
     "metadata": {},
     "output_type": "execute_result"
    }
   ],
   "source": [
    "plt.figure(figsize=(16, 16))\n",
    "plt.imshow(N, cmap=\"Blues\")\n",
    "for i in range(27):\n",
    "    for j in range(27):\n",
    "        chstr = itos[i] + itos[j]\n",
    "        plt.text(j, i, chstr, ha=\"center\", va=\"bottom\", color=\"gray\")\n",
    "        plt.text(j, i, N[i, j].item(), ha=\"center\", va=\"top\", color=\"gray\")\n",
    "plt.axis(\"off\")\n"
   ]
  },
  {
   "cell_type": "code",
   "execution_count": 25,
   "id": "1aabe796",
   "metadata": {},
   "outputs": [],
   "source": [
    "N[0]"
   ]
  },
  {
   "cell_type": "code",
   "execution_count": 26,
   "id": "8cb2d83e",
   "metadata": {},
   "outputs": [],
   "source": [
    "# adding +1 here to apply model smoothing (no 0 counts)\n",
    "P = (N+1).float()\n",
    "P /= P.sum(1, keepdim=True)"
   ]
  },
  {
   "cell_type": "code",
   "execution_count": 27,
   "id": "c0684b48",
   "metadata": {},
   "outputs": [
    {
     "name": "stdout",
     "output_type": "stream",
     "text": [
      "mor.\n",
      "axx.\n",
      "minaymoryles.\n",
      "kondlaisah.\n",
      "anchshizarie.\n"
     ]
    }
   ],
   "source": [
    "g = torch.Generator().manual_seed(2147483647)\n",
    "\n",
    "for i in range(5):\n",
    "    out = []\n",
    "    ix = 0\n",
    "    while True:\n",
    "        p = P[ix]\n",
    "        ix = torch.multinomial(p, num_samples=1, replacement=True, generator=g).item()\n",
    "        out.append(itos[ix])\n",
    "        if ix == 0:\n",
    "            break\n",
    "    print(\"\".join(out))\n"
   ]
  },
  {
   "cell_type": "code",
   "execution_count": 28,
   "id": "abc36436",
   "metadata": {},
   "outputs": [
    {
     "name": "stdout",
     "output_type": "stream",
     "text": [
      "log_likelihood=tensor(-559951.5625)\n",
      "nll=tensor(559951.5625)\n",
      "avg_nll=tensor(2.4544)\n"
     ]
    }
   ],
   "source": [
    "# GOAL: maximize likelihood of data wrt model parameters (stat modeling)\n",
    "# equiv to maximizing the log likelihood (because log is monotonic)\n",
    "# equiv to minimizing the negative log likelihood\n",
    "# equiv to minimizing the avg negative log likelihood\n",
    "\n",
    "\n",
    "# log(a*b*c) = log(a) + log(b) = log(c)\n",
    "log_likelihood = 0.0\n",
    "n = 0\n",
    "for w in words:\n",
    "    chs = [\".\"] + list(w) + [\".\"]\n",
    "    for a, b in zip(chs, chs[1:]):\n",
    "        ix1 = stoi[a]\n",
    "        ix2 = stoi[b]\n",
    "        prob = P[ix1, ix2]\n",
    "        logprob = torch.log(prob)\n",
    "        log_likelihood += logprob\n",
    "        n += 1\n",
    "print(f\"{log_likelihood=}\")\n",
    "nll = -log_likelihood\n",
    "print(f\"{nll=}\")\n",
    "avg_nll = nll / n\n",
    "print(f\"{avg_nll=}\")\n"
   ]
  },
  {
   "cell_type": "code",
   "execution_count": 29,
   "id": "63b473a5",
   "metadata": {},
   "outputs": [],
   "source": [
    "# create the training set of all of the bigrams (x,y)\n",
    "# xs = inputs\n",
    "# ys = targets (labels)\n",
    "xs, ys = [], []\n",
    "\n",
    "for w in words[:1]:\n",
    "    chs = [\".\"] + list(w) + [\".\"]\n",
    "    for a, b in zip(chs, chs[1:]):\n",
    "        ix1 = stoi[a]\n",
    "        ix2 = stoi[b]\n",
    "        xs.append(ix1)\n",
    "        ys.append(ix2)\n",
    "\n",
    "# NB: not to be confused with torch.Tensor\n",
    "xs = torch.tensor(xs)\n",
    "ys = torch.tensor(ys)\n"
   ]
  },
  {
   "cell_type": "code",
   "execution_count": 30,
   "id": "767993b1",
   "metadata": {},
   "outputs": [],
   "source": [
    "import torch.nn.functional as F"
   ]
  },
  {
   "cell_type": "code",
   "execution_count": 31,
   "id": "b9f04b12",
   "metadata": {},
   "outputs": [],
   "source": [
    "# RANDOM WEIGHTS ---------------"
   ]
  },
  {
   "cell_type": "code",
   "execution_count": 32,
   "id": "de2a9929",
   "metadata": {},
   "outputs": [],
   "source": [
    "# randomly initialize 27 neurons weights. each neuron receives 27 inputs\n",
    "g = torch.Generator().manual_seed(2147483647)\n",
    "W = torch.randn((27, 27), generator=g)"
   ]
  },
  {
   "cell_type": "code",
   "execution_count": 33,
   "id": "444c1a5e",
   "metadata": {},
   "outputs": [
    {
     "data": {
      "text/plain": [
       "<matplotlib.image.AxesImage at 0x12a9169e0>"
      ]
     },
     "execution_count": 33,
     "metadata": {},
     "output_type": "execute_result"
    },
    {
     "data": {
      "image/png": "[encoded data removed]",
      "text/plain": [
       "<Figure size 640x480 with 1 Axes>"
      ]
     },
     "metadata": {},
     "output_type": "display_data"
    }
   ],
   "source": [
    "xenc = F.one_hot(xs, num_classes=27).float() # input to network with one-hot encoding\n",
    "plt.imshow(xenc)"
   ]
  },
  {
   "cell_type": "code",
   "execution_count": 38,
   "id": "156104fe",
   "metadata": {},
   "outputs": [],
   "source": [
    "logits = xenc @ W # predict log-counts\n",
    "\n",
    "# softmax activation function \n",
    "counts = logits.exp() # counts, equivalent to N above\n",
    "probs = counts / counts.sum(1, keepdims=True) # probabilities for next char"
   ]
  },
  {
   "cell_type": "code",
   "execution_count": 39,
   "id": "aef617c6",
   "metadata": {},
   "outputs": [
    {
     "data": {
      "text/plain": [
       "torch.Size([5, 27])"
      ]
     },
     "execution_count": 39,
     "metadata": {},
     "output_type": "execute_result"
    }
   ],
   "source": [
    "probs.shape"
   ]
  },
  {
   "cell_type": "code",
   "execution_count": 40,
   "id": "a6a25a97",
   "metadata": {},
   "outputs": [
    {
     "name": "stdout",
     "output_type": "stream",
     "text": [
      "-----\n",
      "bigram 1: .e (0, 5)\n",
      "input to neural net: 0\n",
      "output probabilities from neural net: tensor([0.0607, 0.0100, 0.0123, 0.0042, 0.0168, 0.0123, 0.0027, 0.0232, 0.0137,\n",
      "        0.0313, 0.0079, 0.0278, 0.0091, 0.0082, 0.0500, 0.2378, 0.0603, 0.0025,\n",
      "        0.0249, 0.0055, 0.0339, 0.0109, 0.0029, 0.0198, 0.0118, 0.1537, 0.1459])\n",
      "label (actual next character) e\n",
      "probability assigned for the correct character: 0.012286253273487091\n",
      "negative log likelihood: 4.3992743492126465\n",
      "-----\n",
      "bigram 2: em (5, 13)\n",
      "input to neural net: 5\n",
      "output probabilities from neural net: tensor([0.0290, 0.0796, 0.0248, 0.0521, 0.1989, 0.0289, 0.0094, 0.0335, 0.0097,\n",
      "        0.0301, 0.0702, 0.0228, 0.0115, 0.0181, 0.0108, 0.0315, 0.0291, 0.0045,\n",
      "        0.0916, 0.0215, 0.0486, 0.0300, 0.0501, 0.0027, 0.0118, 0.0022, 0.0472])\n",
      "label (actual next character) m\n",
      "probability assigned for the correct character: 0.018050702288746834\n",
      "negative log likelihood: 4.014570713043213\n",
      "-----\n",
      "bigram 3: mm (13, 13)\n",
      "input to neural net: 13\n",
      "output probabilities from neural net: tensor([0.0312, 0.0737, 0.0484, 0.0333, 0.0674, 0.0200, 0.0263, 0.0249, 0.1226,\n",
      "        0.0164, 0.0075, 0.0789, 0.0131, 0.0267, 0.0147, 0.0112, 0.0585, 0.0121,\n",
      "        0.0650, 0.0058, 0.0208, 0.0078, 0.0133, 0.0203, 0.1204, 0.0469, 0.0126])\n",
      "label (actual next character) m\n",
      "probability assigned for the correct character: 0.026691533625125885\n",
      "negative log likelihood: 3.623408794403076\n",
      "-----\n",
      "bigram 4: ma (13, 1)\n",
      "input to neural net: 13\n",
      "output probabilities from neural net: tensor([0.0312, 0.0737, 0.0484, 0.0333, 0.0674, 0.0200, 0.0263, 0.0249, 0.1226,\n",
      "        0.0164, 0.0075, 0.0789, 0.0131, 0.0267, 0.0147, 0.0112, 0.0585, 0.0121,\n",
      "        0.0650, 0.0058, 0.0208, 0.0078, 0.0133, 0.0203, 0.1204, 0.0469, 0.0126])\n",
      "label (actual next character) a\n",
      "probability assigned for the correct character: 0.07367684692144394\n",
      "negative log likelihood: 2.6080667972564697\n",
      "-----\n",
      "bigram 5: a. (1, 0)\n",
      "input to neural net: 1\n",
      "output probabilities from neural net: tensor([0.0150, 0.0086, 0.0396, 0.0100, 0.0606, 0.0308, 0.1084, 0.0131, 0.0125,\n",
      "        0.0048, 0.1024, 0.0086, 0.0988, 0.0112, 0.0232, 0.0207, 0.0408, 0.0078,\n",
      "        0.0899, 0.0531, 0.0463, 0.0309, 0.0051, 0.0329, 0.0654, 0.0503, 0.0091])\n",
      "label (actual next character) .\n",
      "probability assigned for the correct character: 0.0149775305762887\n",
      "negative log likelihood: 4.201204299926758\n",
      "======\n",
      "average negative log likelihood (loss): 3.7693049907684326\n"
     ]
    }
   ],
   "source": [
    "# demonstrate starting loss\n",
    "nlls = torch.zeros(5)\n",
    "for i in range(5):\n",
    "    x = xs[i].item()  # input character idx\n",
    "    y = ys[i].item()  # label character idx (target)\n",
    "    print(\"-----\")\n",
    "    print(f\"bigram {i+1}: {itos[x]}{itos[y]} ({x}, {y})\")\n",
    "    print(\"input to neural net:\", x)\n",
    "    print(\"output probabilities from neural net:\", probs[i])\n",
    "    print(\"label (actual next character)\", itos[y])\n",
    "    p = probs[i, y]\n",
    "    print(\"probability assigned for the correct character:\", p.item())\n",
    "    nll = -torch.log(p)\n",
    "    print(\"negative log likelihood:\", nll.item())\n",
    "    nlls[i] = nll\n",
    "print(\"======\")\n",
    "print(\"average negative log likelihood (loss):\", nlls.mean().item())\n"
   ]
  },
  {
   "cell_type": "code",
   "execution_count": 372,
   "id": "152f8655",
   "metadata": {},
   "outputs": [],
   "source": [
    "# OPTIMIZE WEIGHTS ONCE ---------------"
   ]
  },
  {
   "cell_type": "code",
   "execution_count": 41,
   "id": "c1646b43",
   "metadata": {},
   "outputs": [],
   "source": [
    "# randomly initialize 27 neurons weights. each neuron receives 27 inputs\n",
    "g = torch.Generator().manual_seed(2147483647)\n",
    "W = torch.randn((27, 27), generator=g, requires_grad=True)"
   ]
  },
  {
   "cell_type": "code",
   "execution_count": 59,
   "id": "b4505e2c",
   "metadata": {},
   "outputs": [],
   "source": [
    "# forward pass\n",
    "xenc = F.one_hot(xs, num_classes=27).float()\n",
    "logits = xenc @ W\n",
    "counts = logits.exp()\n",
    "probs = counts / counts.sum(1, keepdims=True)\n",
    "loss = -probs[torch.arange(5), ys].log().mean()"
   ]
  },
  {
   "cell_type": "code",
   "execution_count": 60,
   "id": "3ab78ec1",
   "metadata": {},
   "outputs": [],
   "source": [
    "# backward pass\n",
    "W.grad = None # set grads to zero\n",
    "loss.backward()"
   ]
  },
  {
   "cell_type": "code",
   "execution_count": 61,
   "id": "a4d03cb4",
   "metadata": {},
   "outputs": [],
   "source": [
    "W.data += -0.1 * W.grad"
   ]
  },
  {
   "cell_type": "code",
   "execution_count": 377,
   "id": "d6b1757a",
   "metadata": {},
   "outputs": [],
   "source": [
    "# OPTIMIZED WEIGHTS WITH GRADIENT DESCENT ---------------"
   ]
  },
  {
   "cell_type": "code",
   "execution_count": 62,
   "id": "b6dc14bf",
   "metadata": {},
   "outputs": [
    {
     "name": "stdout",
     "output_type": "stream",
     "text": [
      "number of examples: 228146\n"
     ]
    }
   ],
   "source": [
    "# create dataset\n",
    "xs, ys = [], []\n",
    "for w in words:\n",
    "    chs = [\".\"] + list(w) + [\".\"]\n",
    "    for a, b in zip(chs, chs[1:]):\n",
    "        ia = stoi[a]\n",
    "        ib = stoi[b]\n",
    "        xs.append(ia)\n",
    "        ys.append(ib)\n",
    "xs = torch.tensor(xs)\n",
    "ys = torch.tensor(ys)\n",
    "num = xs.nelement()\n",
    "print(\"number of examples:\", num)\n",
    "\n",
    "# initialize the network\n",
    "g = torch.Generator().manual_seed(2147483647)\n",
    "W = torch.randn((27, 27), generator=g, requires_grad=True)\n"
   ]
  },
  {
   "cell_type": "code",
   "execution_count": 65,
   "id": "06834f5a",
   "metadata": {},
   "outputs": [],
   "source": [
    "# gradient descent\n",
    "for k in range(1000):\n",
    "    # forward pass\n",
    "    xenc = F.one_hot(xs, num_classes=27).float()\n",
    "    logits = xenc @ W\n",
    "    counts = logits.exp()\n",
    "    probs = counts / counts.sum(1, keepdims=True)\n",
    "    loss = -probs[torch.arange(num), ys].log().mean()\n",
    "\n",
    "    # backward pass\n",
    "    W.grad = None  # set grads to zero\n",
    "    loss.backward()\n",
    "\n",
    "    # update\n",
    "    W.data += -50 * W.grad\n"
   ]
  },
  {
   "cell_type": "code",
   "execution_count": 66,
   "id": "ece8b54a",
   "metadata": {},
   "outputs": [
    {
     "name": "stdout",
     "output_type": "stream",
     "text": [
      "final loss with above values: 2.4552249908447266\n"
     ]
    }
   ],
   "source": [
    "print('final loss with above values:', loss.item())"
   ]
  },
  {
   "cell_type": "code",
   "execution_count": 67,
   "id": "79ae5626",
   "metadata": {},
   "outputs": [
    {
     "name": "stdout",
     "output_type": "stream",
     "text": [
      "mor.\n",
      "axx.\n",
      "minaymoryles.\n",
      "kondlaisah.\n",
      "anchshizarie.\n"
     ]
    }
   ],
   "source": [
    "# SAMPLING ---------\n",
    "\n",
    "g = torch.Generator().manual_seed(2147483647)\n",
    "for i in range(5):\n",
    "    out = []\n",
    "    ix = 0\n",
    "    while True:\n",
    "        xenc = F.one_hot(torch.tensor([ix]), num_classes=27).float()\n",
    "        logits = xenc @ W\n",
    "        counts = logits.exp()\n",
    "        p = counts / counts.sum(1, keepdims=True)\n",
    "\n",
    "        ix = torch.multinomial(p, num_samples=1, replacement=True, generator=g).item()\n",
    "        out.append(itos[ix])\n",
    "        if ix == 0:\n",
    "            break\n",
    "    print(\"\".join(out))\n"
   ]
  }
 ],
 "metadata": {
  "kernelspec": {
   "display_name": "Python 3 (ipykernel)",
   "language": "python",
   "name": "python3"
  },
  "language_info": {
   "codemirror_mode": {
    "name": "ipython",
    "version": 3
   },
   "file_extension": ".py",
   "mimetype": "text/x-python",
   "name": "python",
   "nbconvert_exporter": "python",
   "pygments_lexer": "ipython3",
   "version": "3.10.4"
  }
 },
 "nbformat": 4,
 "nbformat_minor": 5
}
