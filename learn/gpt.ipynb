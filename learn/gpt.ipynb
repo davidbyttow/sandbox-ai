{
 "cells": [
  {
   "cell_type": "code",
   "execution_count": null,
   "id": "55297c4d",
   "metadata": {},
   "outputs": [],
   "source": [
    "def gpt(inputs: list[int]) -> list[list[float]]:\n",
    "    # inputs has shape [n_seq]\n",
    "    # output has shape [n_seq, n_vocab]\n",
    "    \n",
    "    output = # beep boop neural network magic\n",
    "    return output\n"
   ]
  }
 ],
 "metadata": {
  "kernelspec": {
   "display_name": "Python 3 (ipykernel)",
   "language": "python",
   "name": "python3"
  },
  "language_info": {
   "codemirror_mode": {
    "name": "ipython",
    "version": 3
   },
   "file_extension": ".py",
   "mimetype": "text/x-python",
   "name": "python",
   "nbconvert_exporter": "python",
   "pygments_lexer": "ipython3",
   "version": "3.10.4"
  }
 },
 "nbformat": 4,
 "nbformat_minor": 5
}
