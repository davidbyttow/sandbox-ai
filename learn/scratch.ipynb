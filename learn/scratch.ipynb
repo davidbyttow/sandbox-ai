{
 "cells": [
  {
   "cell_type": "code",
   "execution_count": 14,
   "id": "f682277c",
   "metadata": {},
   "outputs": [
    {
     "name": "stdout",
     "output_type": "stream",
     "text": [
      "[[0 1]\n",
      " [2 3]]\n",
      "[[0 2]\n",
      " [1 3]]\n",
      "[[0 1]\n",
      " [4 9]]\n",
      "[[ 2  3]\n",
      " [ 6 11]]\n"
     ]
    }
   ],
   "source": [
    "import numpy as np\n",
    "\n",
    "a = np.arange(3)\n",
    "b = np.arange(3)\n",
    "m = np.arange(4).reshape((2, 2))\n",
    "print(m)\n",
    "print(m.T)\n",
    "\n",
    "print(m * m)\n",
    "print(m @ m)"
   ]
  },
  {
   "cell_type": "code",
   "execution_count": 29,
   "id": "dcdf94dc",
   "metadata": {},
   "outputs": [],
   "source": [
    "desired_customers = 8000\n",
    "desired_rev = 10_000_000\n",
    "cvr = 0.02\n",
    "gmv_per_customer = 289\n",
    "weekly_rewards_value = 150_000\n",
    "weeks_left = 13 # todo: make dynamic\n",
    "\n",
    "signups_needed = desired_customers / cvr\n",
    "signups_per_week_needed = signups_needed / weeks_left\n",
    "signups_per_day_needed = signups_per_week_needed / 7\n",
    "est_gmv = signups_per_week_needed*gmv_per_customer\n",
    "\n",
    "customers_per_week_needed = desired_customers / weeks_left\n",
    "customers_needed_for_secondary = weekly_rewards_value / gmv_per_customer\n",
    "primary_gmv_pct = (customers_per_week_needed - customers_needed_for_secondary) / customers_per_week_needed\n",
    "primary_gmv = round(primary_gmv_pct * est_gmv)\n",
    "secondary_gmv = round((1 - primary_gmv_pct) * est_gmv * 0.05)\n",
    "\n",
    "breakeven_marketing_budget = primary_gmv + secondary_gmv\n",
    "breakeven_cpa = breakeven_marketing_budget / signups_needed"
   ]
  },
  {
   "cell_type": "code",
   "execution_count": null,
   "id": "cb930fac",
   "metadata": {},
   "outputs": [],
   "source": [
    "\n",
    "\n",
    "for i in range(weeks_left*7):\n",
    "    \n",
    "\n"
   ]
  }
 ],
 "metadata": {
  "kernelspec": {
   "display_name": "Python 3 (ipykernel)",
   "language": "python",
   "name": "python3"
  },
  "language_info": {
   "codemirror_mode": {
    "name": "ipython",
    "version": 3
   },
   "file_extension": ".py",
   "mimetype": "text/x-python",
   "name": "python",
   "nbconvert_exporter": "python",
   "pygments_lexer": "ipython3",
   "version": "3.10.4"
  }
 },
 "nbformat": 4,
 "nbformat_minor": 5
}
