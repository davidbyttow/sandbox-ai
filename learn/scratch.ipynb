{
 "cells": [
  {
   "cell_type": "code",
   "execution_count": 14,
   "id": "f682277c",
   "metadata": {},
   "outputs": [
    {
     "name": "stdout",
     "output_type": "stream",
     "text": [
      "[[0 1]\n",
      " [2 3]]\n",
      "[[0 2]\n",
      " [1 3]]\n",
      "[[0 1]\n",
      " [4 9]]\n",
      "[[ 2  3]\n",
      " [ 6 11]]\n"
     ]
    }
   ],
   "source": [
    "import numpy as np\n",
    "\n",
    "a = np.arange(3)\n",
    "b = np.arange(3)\n",
    "m = np.arange(4).reshape((2, 2))\n",
    "print(m)\n",
    "print(m.T)\n",
    "\n",
    "print(m * m)\n",
    "print(m @ m)"
   ]
  },
  {
   "cell_type": "code",
   "execution_count": null,
   "id": "dcdf94dc",
   "metadata": {},
   "outputs": [],
   "source": []
  }
 ],
 "metadata": {
  "kernelspec": {
   "display_name": "Python 3 (ipykernel)",
   "language": "python",
   "name": "python3"
  },
  "language_info": {
   "codemirror_mode": {
    "name": "ipython",
    "version": 3
   },
   "file_extension": ".py",
   "mimetype": "text/x-python",
   "name": "python",
   "nbconvert_exporter": "python",
   "pygments_lexer": "ipython3",
   "version": "3.10.4"
  }
 },
 "nbformat": 4,
 "nbformat_minor": 5
}
