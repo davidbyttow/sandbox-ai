{
 "cells": [
  {
   "cell_type": "code",
   "execution_count": 1,
   "id": "bfaf2d62-7ba6-4c46-9f2b-22ac20f10420",
   "metadata": {},
   "outputs": [
    {
     "data": {
      "text/plain": [
       "['IncompleteJSONError',\n",
       " 'JSONError',\n",
       " 'ObjectBuilder',\n",
       " '__builtins__',\n",
       " '__cached__',\n",
       " '__doc__',\n",
       " '__file__',\n",
       " '__loader__',\n",
       " '__name__',\n",
       " '__package__',\n",
       " '__path__',\n",
       " '__spec__',\n",
       " '__version__',\n",
       " 'backend',\n",
       " 'backends',\n",
       " 'basic_parse',\n",
       " 'basic_parse_async',\n",
       " 'basic_parse_coro',\n",
       " 'common',\n",
       " 'compat',\n",
       " 'coroutine',\n",
       " 'get_backend',\n",
       " 'items',\n",
       " 'items_async',\n",
       " 'items_coro',\n",
       " 'kvitems',\n",
       " 'kvitems_async',\n",
       " 'kvitems_coro',\n",
       " 'parse',\n",
       " 'parse_async',\n",
       " 'parse_coro',\n",
       " 'sendable_list',\n",
       " 'utils',\n",
       " 'utils35',\n",
       " 'version']"
      ]
     },
     "execution_count": 1,
     "metadata": {},
     "output_type": "execute_result"
    }
   ],
   "source": [
    "import ijson\n",
    "\n",
    "with open('your_large_file.json', 'r') as f:\n",
    "    # Replace 'item' with the appropriate JSON path in your structure\n",
    "    for item in ijson.items(f, 'item'):\n",
    "        # Process each item\n",
    "        print(item)\n",
    "        # You can convert each item into a dataframe or process it further"
   ]
  }
 ],
 "metadata": {
  "kernelspec": {
   "display_name": "Python 3 (ipykernel)",
   "language": "python",
   "name": "python3"
  },
  "language_info": {
   "codemirror_mode": {
    "name": "ipython",
    "version": 3
   },
   "file_extension": ".py",
   "mimetype": "text/x-python",
   "name": "python",
   "nbconvert_exporter": "python",
   "pygments_lexer": "ipython3",
   "version": "3.11.4"
  }
 },
 "nbformat": 4,
 "nbformat_minor": 5
}
