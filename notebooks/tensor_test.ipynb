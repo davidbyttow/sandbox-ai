{
 "cells": [
  {
   "cell_type": "code",
   "execution_count": 3,
   "id": "1bd1f192",
   "metadata": {},
   "outputs": [],
   "source": [
    "import torch"
   ]
  },
  {
   "cell_type": "code",
   "execution_count": 45,
   "id": "dcba788a",
   "metadata": {},
   "outputs": [],
   "source": [
    "def val(v):\n",
    "  t = torch.tensor([v]).double()\n",
    "  t.requires_grad=True\n",
    "  return t"
   ]
  },
  {
   "cell_type": "code",
   "execution_count": 46,
   "id": "a44dc253",
   "metadata": {},
   "outputs": [],
   "source": [
    "# basic ops\n",
    "a = val(2)\n",
    "b = val(-3)\n",
    "c = val(10)\n",
    "\n",
    "d = a*b + c\n",
    "assert d.item() == 4.0\n",
    "\n",
    "d.backward()\n",
    "assert c.grad.item() == 1.0\n",
    "assert a.grad.item() == -3.0"
   ]
  },
  {
   "cell_type": "code",
   "execution_count": 67,
   "id": "db827480",
   "metadata": {},
   "outputs": [
    {
     "data": {
      "text/plain": [
       "1.648922902527912e-08"
      ]
     },
     "execution_count": 67,
     "metadata": {},
     "output_type": "execute_result"
    }
   ],
   "source": [
    "# more complex ops\n",
    "a = val(-4)\n",
    "b = val(a.relu())\n",
    "c = b + 10\n",
    "d = torch.tanh(c)\n",
    "e = -d\n",
    "f = e**2\n",
    "g = f - 10\n",
    "g.item()\n",
    "assert round(g.item()) == -9\n",
    "\n",
    "g.backward()\n",
    "b.grad.item()"
   ]
  },
  {
   "cell_type": "code",
   "execution_count": 81,
   "id": "2a81ea39",
   "metadata": {},
   "outputs": [
    {
     "data": {
      "text/plain": [
       "2.0"
      ]
     },
     "execution_count": 81,
     "metadata": {},
     "output_type": "execute_result"
    }
   ],
   "source": [
    "# simple mse\n",
    "ygts = [1, 1, 1]\n",
    "ypreds = [val(x) for x in [2, 2, 2]]\n",
    "loss = sum((ypred - ygt)**2 for ygt, ypred in zip(ygts, ypreds))\n",
    "loss.backward()\n",
    "\n",
    "assert loss.data == 3\n",
    "ypreds[0].grad.item()"
   ]
  }
 ],
 "metadata": {
  "kernelspec": {
   "display_name": "Python 3 (ipykernel)",
   "language": "python",
   "name": "python3"
  },
  "language_info": {
   "codemirror_mode": {
    "name": "ipython",
    "version": 3
   },
   "file_extension": ".py",
   "mimetype": "text/x-python",
   "name": "python",
   "nbconvert_exporter": "python",
   "pygments_lexer": "ipython3",
   "version": "3.10.4"
  }
 },
 "nbformat": 4,
 "nbformat_minor": 5
}
